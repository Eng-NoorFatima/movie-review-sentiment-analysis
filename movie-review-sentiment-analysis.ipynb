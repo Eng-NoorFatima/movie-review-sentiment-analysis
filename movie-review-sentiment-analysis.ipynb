{
 "cells": [
  {
   "cell_type": "markdown",
   "id": "73bc2dd4",
   "metadata": {},
   "source": [
    "# TEXT PREPROCESSING AND SENTIMENT ANALYSIS OF MOVIE REVIEWS"
   ]
  },
  {
   "cell_type": "markdown",
   "id": "36d8e18f",
   "metadata": {},
   "source": [
    "### Data Analysis"
   ]
  },
  {
   "cell_type": "code",
   "execution_count": 1,
   "id": "39e680f0",
   "metadata": {},
   "outputs": [],
   "source": [
    "#pip install pandas\n",
    "#pip install numpy"
   ]
  },
  {
   "cell_type": "code",
   "execution_count": 2,
   "id": "078efe8b",
   "metadata": {},
   "outputs": [],
   "source": [
    "import pandas as pd\n",
    "import numpy as np"
   ]
  },
  {
   "cell_type": "code",
   "execution_count": 3,
   "id": "304a2399",
   "metadata": {},
   "outputs": [
    {
     "name": "stdout",
     "output_type": "stream",
     "text": [
      "2.0.3\n",
      "1.24.3\n"
     ]
    }
   ],
   "source": [
    "print(pd.__version__)\n",
    "print(np.__version__)"
   ]
  },
  {
   "cell_type": "code",
   "execution_count": 4,
   "id": "3e747ee3",
   "metadata": {},
   "outputs": [
    {
     "data": {
      "text/html": [
       "<div>\n",
       "<style scoped>\n",
       "    .dataframe tbody tr th:only-of-type {\n",
       "        vertical-align: middle;\n",
       "    }\n",
       "\n",
       "    .dataframe tbody tr th {\n",
       "        vertical-align: top;\n",
       "    }\n",
       "\n",
       "    .dataframe thead th {\n",
       "        text-align: right;\n",
       "    }\n",
       "</style>\n",
       "<table border=\"1\" class=\"dataframe\">\n",
       "  <thead>\n",
       "    <tr style=\"text-align: right;\">\n",
       "      <th></th>\n",
       "      <th>review</th>\n",
       "      <th>sentiment</th>\n",
       "    </tr>\n",
       "  </thead>\n",
       "  <tbody>\n",
       "    <tr>\n",
       "      <th>0</th>\n",
       "      <td>One of the other reviewers has mentioned that ...</td>\n",
       "      <td>positive</td>\n",
       "    </tr>\n",
       "    <tr>\n",
       "      <th>1</th>\n",
       "      <td>A wonderful little production. &lt;br /&gt;&lt;br /&gt;The...</td>\n",
       "      <td>positive</td>\n",
       "    </tr>\n",
       "    <tr>\n",
       "      <th>2</th>\n",
       "      <td>I thought this was a wonderful way to spend ti...</td>\n",
       "      <td>positive</td>\n",
       "    </tr>\n",
       "    <tr>\n",
       "      <th>3</th>\n",
       "      <td>Basically there's a family where a little boy ...</td>\n",
       "      <td>negative</td>\n",
       "    </tr>\n",
       "    <tr>\n",
       "      <th>4</th>\n",
       "      <td>Petter Mattei's \"Love in the Time of Money\" is...</td>\n",
       "      <td>positive</td>\n",
       "    </tr>\n",
       "  </tbody>\n",
       "</table>\n",
       "</div>"
      ],
      "text/plain": [
       "                                              review sentiment\n",
       "0  One of the other reviewers has mentioned that ...  positive\n",
       "1  A wonderful little production. <br /><br />The...  positive\n",
       "2  I thought this was a wonderful way to spend ti...  positive\n",
       "3  Basically there's a family where a little boy ...  negative\n",
       "4  Petter Mattei's \"Love in the Time of Money\" is...  positive"
      ]
     },
     "execution_count": 4,
     "metadata": {},
     "output_type": "execute_result"
    }
   ],
   "source": [
    "df = pd.read_csv('IMDB Dataset.csv')\n",
    "df.head()"
   ]
  },
  {
   "cell_type": "code",
   "execution_count": 5,
   "id": "1a5a963f",
   "metadata": {},
   "outputs": [],
   "source": [
    "#pd.set_option('display.max_colwidth', None)        for reviewing full length of reviews\n",
    "#df.sample(2)"
   ]
  },
  {
   "cell_type": "code",
   "execution_count": 6,
   "id": "1c378416",
   "metadata": {},
   "outputs": [
    {
     "data": {
      "text/plain": [
       "(50000, 2)"
      ]
     },
     "execution_count": 6,
     "metadata": {},
     "output_type": "execute_result"
    }
   ],
   "source": [
    "df.shape"
   ]
  },
  {
   "cell_type": "markdown",
   "id": "da9409f8",
   "metadata": {},
   "source": [
    "Statistical Summary:"
   ]
  },
  {
   "cell_type": "code",
   "execution_count": 7,
   "id": "a675b475",
   "metadata": {},
   "outputs": [
    {
     "data": {
      "text/html": [
       "<div>\n",
       "<style scoped>\n",
       "    .dataframe tbody tr th:only-of-type {\n",
       "        vertical-align: middle;\n",
       "    }\n",
       "\n",
       "    .dataframe tbody tr th {\n",
       "        vertical-align: top;\n",
       "    }\n",
       "\n",
       "    .dataframe thead th {\n",
       "        text-align: right;\n",
       "    }\n",
       "</style>\n",
       "<table border=\"1\" class=\"dataframe\">\n",
       "  <thead>\n",
       "    <tr style=\"text-align: right;\">\n",
       "      <th></th>\n",
       "      <th>review</th>\n",
       "      <th>sentiment</th>\n",
       "    </tr>\n",
       "  </thead>\n",
       "  <tbody>\n",
       "    <tr>\n",
       "      <th>count</th>\n",
       "      <td>50000</td>\n",
       "      <td>50000</td>\n",
       "    </tr>\n",
       "    <tr>\n",
       "      <th>unique</th>\n",
       "      <td>49582</td>\n",
       "      <td>2</td>\n",
       "    </tr>\n",
       "    <tr>\n",
       "      <th>top</th>\n",
       "      <td>Loved today's show!!! It was a variety and not...</td>\n",
       "      <td>positive</td>\n",
       "    </tr>\n",
       "    <tr>\n",
       "      <th>freq</th>\n",
       "      <td>5</td>\n",
       "      <td>25000</td>\n",
       "    </tr>\n",
       "  </tbody>\n",
       "</table>\n",
       "</div>"
      ],
      "text/plain": [
       "                                                   review sentiment\n",
       "count                                               50000     50000\n",
       "unique                                              49582         2\n",
       "top     Loved today's show!!! It was a variety and not...  positive\n",
       "freq                                                    5     25000"
      ]
     },
     "execution_count": 7,
     "metadata": {},
     "output_type": "execute_result"
    }
   ],
   "source": [
    "# Display summary statistics of categorical columns\n",
    "df.describe(include='object')"
   ]
  },
  {
   "cell_type": "markdown",
   "id": "56843b60",
   "metadata": {},
   "source": [
    "Missing Values:"
   ]
  },
  {
   "cell_type": "code",
   "execution_count": 8,
   "id": "ceb5e281",
   "metadata": {},
   "outputs": [
    {
     "data": {
      "text/plain": [
       "review       0\n",
       "sentiment    0\n",
       "dtype: int64"
      ]
     },
     "execution_count": 8,
     "metadata": {},
     "output_type": "execute_result"
    }
   ],
   "source": [
    "# Check for missing values\n",
    "df.isnull().sum()\n"
   ]
  },
  {
   "cell_type": "markdown",
   "id": "5578cda5",
   "metadata": {},
   "source": [
    "describe there is no missing value in the both column of data"
   ]
  },
  {
   "cell_type": "markdown",
   "id": "a806b226",
   "metadata": {},
   "source": [
    "##### Text Length Distribution:\n",
    "Before Preprocessing"
   ]
  },
  {
   "cell_type": "code",
   "execution_count": 9,
   "id": "9cea0bef",
   "metadata": {},
   "outputs": [
    {
     "name": "stdout",
     "output_type": "stream",
     "text": [
      "13704\n",
      "32\n"
     ]
    }
   ],
   "source": [
    "df['review_length'] = df['review'].apply(len)\n",
    "\n",
    "max_length = df['review_length'].max()\n",
    "print(max_length)\n",
    "\n",
    "min_length = df['review_length'].min()\n",
    "print(min_length)\n"
   ]
  },
  {
   "cell_type": "code",
   "execution_count": 10,
   "id": "8584b1c1",
   "metadata": {},
   "outputs": [
    {
     "data": {
      "text/plain": [
       "sentiment\n",
       "positive    25000\n",
       "negative    25000\n",
       "Name: count, dtype: int64"
      ]
     },
     "execution_count": 10,
     "metadata": {},
     "output_type": "execute_result"
    }
   ],
   "source": [
    "df['sentiment'].value_counts()"
   ]
  },
  {
   "cell_type": "markdown",
   "id": "474bb71f",
   "metadata": {},
   "source": [
    "### Data Visualization "
   ]
  },
  {
   "cell_type": "code",
   "execution_count": 11,
   "id": "92841754",
   "metadata": {},
   "outputs": [
    {
     "data": {
      "image/png": "[encoded data removed]",
      "text/plain": [
       "<Figure size 800x500 with 1 Axes>"
      ]
     },
     "metadata": {},
     "output_type": "display_data"
    }
   ],
   "source": [
    "import matplotlib.pyplot as plt\n",
    "import seaborn as sns\n",
    "\n",
    "values = [25000, 25000]  # Values for 'positive' and 'negative'\n",
    "\n",
    "# Set Seaborn style\n",
    "sns.set(style='whitegrid')\n",
    "\n",
    "# Define light and attractive colors from Seaborn palette\n",
    "colors = sns.color_palette(\"pastel\", 2)  # Using 'pastel' palette for soft colors\n",
    "\n",
    "explode = (0.05, 0)  # Slightly explode the positive slice\n",
    "\n",
    "# Create a smaller figure\n",
    "plt.figure(figsize=(8, 5))  # Smaller size for the figure\n",
    "\n",
    "# Create the pie chart with custom properties\n",
    "wedges, texts, autotexts = plt.pie(\n",
    "    values,\n",
    "    labels=['Positive\\n({:.1f}%)'.format(100 * values[0] / sum(values)), \n",
    "            'Negative\\n({:.1f}%)'.format(100 * values[1] / sum(values))],\n",
    "    autopct='',\n",
    "    startangle=90,\n",
    "    colors=colors,\n",
    "    wedgeprops={'linewidth': 1.5, 'edgecolor': 'white'},\n",
    "    explode=explode,\n",
    ")\n",
    "\n",
    "# Customize text properties\n",
    "for text in texts:\n",
    "    text.set(size=13, weight='bold', color='black')  # Slightly smaller text for better fit\n",
    "\n",
    "# Add a title with more styling\n",
    "plt.title('IMDB Review Classification Distribution', fontsize=18, fontweight='bold', color='darkblue')\n",
    "\n",
    "# Add central annotations for better clarity\n",
    "plt.text(0, 0, 'Total Reviews\\n{}'.format(sum(values)), \n",
    "         horizontalalignment='center', verticalalignment='center', fontsize=12, \n",
    "         weight='bold', color='gray')\n",
    "\n",
    "# Equal aspect ratio ensures that pie is drawn as a circle\n",
    "plt.axis('equal')\n",
    "\n",
    "# Show the pie chart\n",
    "plt.tight_layout()  # Adjusts the plot to fit into the figure area.\n",
    "plt.show()\n"
   ]
  },
  {
   "cell_type": "markdown",
   "id": "88b5490a",
   "metadata": {},
   "source": [
    "# DATA PREPROCESSING"
   ]
  },
  {
   "cell_type": "markdown",
   "id": "2945dd5d",
   "metadata": {},
   "source": [
    "##### Removing Duplicates:"
   ]
  },
  {
   "cell_type": "code",
   "execution_count": 12,
   "id": "8799f0f0",
   "metadata": {},
   "outputs": [],
   "source": [
    "# Remove duplicate rows(if any)\n",
    "df = df.drop_duplicates()"
   ]
  },
  {
   "cell_type": "markdown",
   "id": "b3539407",
   "metadata": {},
   "source": [
    "##### Converting Text to Lowercase:"
   ]
  },
  {
   "cell_type": "code",
   "execution_count": 13,
   "id": "79d5f105",
   "metadata": {},
   "outputs": [],
   "source": [
    "# Convert 'reviewText' to lowercase\n",
    "df['review'] = df['review'].str.lower()\n"
   ]
  },
  {
   "cell_type": "markdown",
   "id": "9aee0b69",
   "metadata": {},
   "source": [
    "##### Removing stop words, punctuation, special characters, digits and whitespaces"
   ]
  },
  {
   "cell_type": "code",
   "execution_count": 14,
   "id": "9b3308bf",
   "metadata": {},
   "outputs": [],
   "source": [
    "#pip install nltk\n",
    "import nltk\n",
    "#nltk.download('punkt')\n",
    "#nltk.download('stopwords')"
   ]
  },
  {
   "cell_type": "code",
   "execution_count": 15,
   "id": "b75d5c98",
   "metadata": {},
   "outputs": [],
   "source": [
    "from nltk.tokenize import word_tokenize\n",
    "from nltk.corpus import stopwords\n",
    "import re"
   ]
  },
  {
   "cell_type": "code",
   "execution_count": 16,
   "id": "15d85122",
   "metadata": {},
   "outputs": [],
   "source": [
    "def clean_txt(text):\n",
    "  # Remove HTML tags like \"(<.*?>)\"\n",
    "  return re.sub('(<.*?>)', ' ', text)\n",
    "\n",
    "# Apply the cleaning function to each review in the 'review' column\n",
    "df['review'] = df['review'].apply(clean_txt)"
   ]
  },
  {
   "cell_type": "code",
   "execution_count": 17,
   "id": "01a863ec",
   "metadata": {},
   "outputs": [
    {
     "data": {
      "text/plain": [
       "0        [one, reviewers, mentioned, watching, , oz, ep...\n",
       "1        [wonderful, little, production, , filming, tec...\n",
       "2        [thought, wonderful, way, spend, time, hot, su...\n",
       "3        [basically, s, family, little, boy, , jake, , ...\n",
       "4        [petter, mattei, s, , love, time, money, , vis...\n",
       "                               ...                        \n",
       "49995    [thought, movie, right, good, job, , nt, creat...\n",
       "49996    [bad, plot, , bad, dialogue, , bad, acting, , ...\n",
       "49997    [catholic, taught, parochial, elementary, scho...\n",
       "49998    [m, going, disagree, previous, comment, side, ...\n",
       "49999    [one, expects, star, trek, movies, high, art, ...\n",
       "Name: review, Length: 49582, dtype: object"
      ]
     },
     "execution_count": 17,
     "metadata": {},
     "output_type": "execute_result"
    }
   ],
   "source": [
    "def clean_review(review):\n",
    "    stop_words = set(stopwords.words('english'))\n",
    "\n",
    "    # Tokenize the text\n",
    "    words = word_tokenize(review)\n",
    "\n",
    "    # remove whitespaces\n",
    "    words = [word.strip() for word in words]\n",
    "\n",
    "    # Remove stop words, punctuation, special characters, and digits\n",
    "    cleaned_review = [re.sub(r'\\W+|\\d+', '', word) for word in words if word and word not in stop_words]\n",
    "\n",
    "    return cleaned_review\n",
    "\n",
    "# Apply the cleaning function to the 'review' column\n",
    "df['review'] = df['review'].apply(clean_review)\n",
    "df['review']"
   ]
  },
  {
   "cell_type": "markdown",
   "id": "8b79cd4d",
   "metadata": {},
   "source": [
    "#### Lemmatization:"
   ]
  },
  {
   "cell_type": "markdown",
   "id": "20b35429",
   "metadata": {},
   "source": [
    "nltk.download('averaged_perceptron_tagger')"
   ]
  },
  {
   "cell_type": "code",
   "execution_count": 18,
   "id": "b61147b4",
   "metadata": {},
   "outputs": [],
   "source": [
    "#nltk.download('wordnet')"
   ]
  },
  {
   "cell_type": "code",
   "execution_count": 19,
   "id": "5429c249",
   "metadata": {},
   "outputs": [],
   "source": [
    "from nltk.stem import WordNetLemmatizer\n",
    "from nltk.corpus import wordnet\n",
    "\n",
    "# Initialize WordNet lemmatizer\n",
    "lemmatizer = WordNetLemmatizer()\n",
    "\n",
    "# Function to convert POS tagging to WordNet POS tags\n",
    "def get_wordnet_pos(treebank_tag):\n",
    "    if treebank_tag.startswith('J'):\n",
    "        return wordnet.ADJ\n",
    "    elif treebank_tag.startswith('V'):\n",
    "        return wordnet.VERB\n",
    "    elif treebank_tag.startswith('N'):\n",
    "        return wordnet.NOUN\n",
    "    elif treebank_tag.startswith('R'):\n",
    "        return wordnet.ADV\n",
    "    else:\n",
    "        return wordnet.NOUN  # Assume default as noun\n",
    "\n",
    "# Lemmatize the cleaned review\n",
    "def lemmatize_text(cleaned_review):\n",
    "    tagged_tokens = nltk.pos_tag(cleaned_review)  # Perform Part-of-Speech tagging\n",
    "    lemmatized_tokens = [lemmatizer.lemmatize(word, get_wordnet_pos(pos_tag)) for word, pos_tag in tagged_tokens]\n",
    "    lemmatized_review = ' '.join(lemmatized_tokens)  # Join the lemmatized tokens into a single string\n",
    "    return lemmatized_review\n",
    "\n",
    "# Apply lemmatization to the 'review' column\n",
    "df['review'] = df['review'].apply(lemmatize_text)"
   ]
  },
  {
   "cell_type": "code",
   "execution_count": 20,
   "id": "26acb358",
   "metadata": {},
   "outputs": [
    {
     "name": "stdout",
     "output_type": "stream",
     "text": [
      "0        one reviewer mention watch  oz episode ll hook...\n",
      "1        wonderful little production  film technique un...\n",
      "2        think wonderful way spend time hot summer week...\n",
      "3        basically s family little boy  jake  think s z...\n",
      "4        petter mattei s  love time money  visually stu...\n",
      "                               ...                        \n",
      "49995    think movie right good job  nt creative origin...\n",
      "49996    bad plot  bad dialogue  bad act  idiotic direc...\n",
      "49997    catholic teach parochial elementary school nun...\n",
      "49998    m go disagree previous comment side maltin one...\n",
      "49999    one expect star trek movie high art  fan expec...\n",
      "Name: review, Length: 49582, dtype: object\n"
     ]
    }
   ],
   "source": [
    "print(df['review'])"
   ]
  },
  {
   "cell_type": "code",
   "execution_count": 21,
   "id": "8adfca06",
   "metadata": {},
   "outputs": [],
   "source": [
    "#After Preprocessing review length"
   ]
  },
  {
   "cell_type": "code",
   "execution_count": 22,
   "id": "95bbbd5b",
   "metadata": {},
   "outputs": [
    {
     "name": "stdout",
     "output_type": "stream",
     "text": [
      "Maxreview len: 8988\n",
      "Minreview len: 20\n"
     ]
    }
   ],
   "source": [
    "print(f\"Maxreview len: {df['review'].str.len().max()}\")\n",
    "print(f\"Minreview len: {df['review'].str.len().min()}\")"
   ]
  },
  {
   "cell_type": "markdown",
   "id": "4f294056",
   "metadata": {},
   "source": [
    "# FEATURE EXTRACTION"
   ]
  },
  {
   "cell_type": "markdown",
   "id": "839b05e1",
   "metadata": {},
   "source": [
    "Import TfidfVectorizer for converting text data into numerical format. TF-IDF stands for Term Frequency-Inverse Document Frequency, which helps measure the importance of a word in a document relative to a dataset."
   ]
  },
  {
   "cell_type": "code",
   "execution_count": 23,
   "id": "793b37d6",
   "metadata": {},
   "outputs": [],
   "source": [
    "from sklearn.feature_extraction.text import TfidfVectorizer\n",
    "# Feature Extraction using TF-IDF\n",
    "vectorizer = TfidfVectorizer()\n",
    "X = vectorizer.fit_transform(df['review'])\n",
    "\n",
    "#print(\"\\nTF-IDF Feature Matrix:\")\n",
    "#print(X.toarray())"
   ]
  },
  {
   "cell_type": "code",
   "execution_count": 24,
   "id": "a7633433",
   "metadata": {},
   "outputs": [],
   "source": [
    "y = df[\"sentiment\"]\n",
    "# Encode the labels: Assuming you have 'positive' and 'negative' sentiments\n",
    "y = y.map({'positive': 1, 'negative': 0})  # Convert labels to binary"
   ]
  },
  {
   "cell_type": "markdown",
   "id": "76875386",
   "metadata": {},
   "source": [
    "## Split the Data"
   ]
  },
  {
   "cell_type": "markdown",
   "id": "00baa3e2",
   "metadata": {},
   "source": [
    "Divide the dataset into training and testing subsets. A typical split might be 80% for training and 20% for testing. This allows you to evaluate model performance on unseen data."
   ]
  },
  {
   "cell_type": "code",
   "execution_count": 25,
   "id": "d9c010d2",
   "metadata": {},
   "outputs": [],
   "source": [
    "from sklearn.model_selection import train_test_split\n",
    "X_train, X_test, y_train, y_test = train_test_split(X, y,stratify= y, test_size=0.2, random_state=42)"
   ]
  },
  {
   "cell_type": "code",
   "execution_count": 26,
   "id": "22bce4a0",
   "metadata": {},
   "outputs": [
    {
     "name": "stdout",
     "output_type": "stream",
     "text": [
      "(39665, 123429)\n",
      "(9917, 123429)\n",
      "(39665,)\n",
      "(9917,)\n"
     ]
    }
   ],
   "source": [
    "print(X_train.shape)\n",
    "print(X_test.shape)\n",
    "print(y_train.shape)\n",
    "print(y_test.shape)"
   ]
  },
  {
   "cell_type": "markdown",
   "id": "63d85b4a",
   "metadata": {},
   "source": [
    "# MACHINE LEARNING MODEL"
   ]
  },
  {
   "cell_type": "markdown",
   "id": "9545411b",
   "metadata": {},
   "source": [
    "### Naive Bayes"
   ]
  },
  {
   "cell_type": "code",
   "execution_count": 27,
   "id": "372ff909",
   "metadata": {},
   "outputs": [
    {
     "name": "stdout",
     "output_type": "stream",
     "text": [
      "Accuracy: 0.8610466875063023\n",
      "Precision: 0.8721820062047569\n",
      "Recall: 0.8472975688165562\n",
      "F1-score: 0.8595597227884224\n"
     ]
    }
   ],
   "source": [
    "from sklearn.naive_bayes import MultinomialNB\n",
    "from sklearn.metrics import accuracy_score, precision_score, recall_score, f1_score\n",
    "\n",
    "model1 = MultinomialNB()\n",
    "model1.fit(X_train, y_train)\n",
    "\n",
    "# Make predictions on the test   \n",
    "y_pred = model1.predict(X_test)\n",
    "\n",
    "# Calculate evaluation metrics\n",
    "accuracy = accuracy_score(y_test, y_pred)\n",
    "precision = precision_score(y_test, y_pred)\n",
    "recall = recall_score(y_test, y_pred)\n",
    "f1 = f1_score(y_test, y_pred)\n",
    "\n",
    "print(\"Accuracy:\", accuracy)\n",
    "print(\"Precision:\", precision)\n",
    "print(\"Recall:\", recall)\n",
    "print(\"F1-score:\", f1)"
   ]
  },
  {
   "cell_type": "markdown",
   "id": "a2c667ed",
   "metadata": {},
   "source": [
    "### Model Performance Report\n",
    "\n",
    "    In this project, a Multinomial Naive Bayes classifier was employed to analyze movie reviews from the IMDb dataset. After training the model on the training set, it was evaluated on a separate test set to gauge its effectiveness.\n",
    "\n",
    "    The model achieved an accuracy of approximately 86.1%, indicating a high level of correct predictions for the sentiment classification task. The precision score was 87.2%, meaning that when the model predicted a positive sentiment, it was accurate 87.2% of the time. This suggests that the model is reliable in identifying positive reviews, though there is still room for improvement, especially for edge cases.\n",
    "\n",
    "    The recall score was 84.7%, reflecting the model's ability to capture the actual positive instances in the dataset. This metric indicates that while the model correctly identifies many positive reviews, it misses some as well. \n",
    "\n",
    "    The F1-score, which balances precision and recall, was calculated at 85.9%, showcasing that the model maintains a good balance between these two metrics. Overall, the performance metrics suggest that the Multinomial Naive Bayes model is effective for sentiment analysis in reviews, although improvements can be made to enhance recall and overall predictions. "
   ]
  },
  {
   "cell_type": "markdown",
   "id": "5ffd630f",
   "metadata": {},
   "source": [
    "## Prediction of review"
   ]
  },
  {
   "cell_type": "code",
   "execution_count": 28,
   "id": "bc018398",
   "metadata": {},
   "outputs": [
    {
     "name": "stdout",
     "output_type": "stream",
     "text": [
      "Predicted sentiment: Positive\n"
     ]
    }
   ],
   "source": [
    "def predict_review(review):\n",
    "    \n",
    "    vectorized_review = vectorizer.transform([review])  # Vectorizing the single review\n",
    "    prediction = model1.predict(vectorized_review)  # Using the model to predict sentiment\n",
    "\n",
    "    # Convert the prediction to a human-readable format\n",
    "    return \"Positive\" if prediction[0] == 1 else \"Negative\"\n",
    "\n",
    "# Example usage\n",
    "review = \"I absolutely loved this movie! The performances were outstanding.\"\n",
    "predicted_sentiment = predict_review(review)\n",
    "print(\"Predicted sentiment:\", predicted_sentiment)\n"
   ]
  },
  {
   "cell_type": "code",
   "execution_count": null,
   "id": "4c9f84f1",
   "metadata": {},
   "outputs": [],
   "source": []
  }
 ],
 "metadata": {
  "kernelspec": {
   "display_name": "Python 3 (ipykernel)",
   "language": "python",
   "name": "python3"
  },
  "language_info": {
   "codemirror_mode": {
    "name": "ipython",
    "version": 3
   },
   "file_extension": ".py",
   "mimetype": "text/x-python",
   "name": "python",
   "nbconvert_exporter": "python",
   "pygments_lexer": "ipython3",
   "version": "3.11.5"
  }
 },
 "nbformat": 4,
 "nbformat_minor": 5
}
